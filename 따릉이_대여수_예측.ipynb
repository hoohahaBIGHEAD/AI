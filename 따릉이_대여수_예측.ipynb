{
  "nbformat": 4,
  "nbformat_minor": 0,
  "metadata": {
    "colab": {
      "name": "따릉이_대여수_예측.ipynb",
      "provenance": [],
      "collapsed_sections": [],
      "mount_file_id": "1TeD5xxGRQjK-bfe_5CgNFMUMut5rNWI4",
      "authorship_tag": "ABX9TyMhCGqTa6go1Uu+FnIK0DJt",
      "include_colab_link": true
    },
    "kernelspec": {
      "name": "python3",
      "display_name": "Python 3"
    },
    "language_info": {
      "name": "python"
    },
    "accelerator": "GPU"
  },
  "cells": [
    {
      "cell_type": "markdown",
      "metadata": {
        "id": "view-in-github",
        "colab_type": "text"
      },
      "source": [
        "<a href=\"https://colab.research.google.com/github/hoohahaBIGHEAD/AI/blob/main/%EB%94%B0%EB%A6%89%EC%9D%B4_%EB%8C%80%EC%97%AC%EC%88%98_%EC%98%88%EC%B8%A1.ipynb\" target=\"_parent\"><img src=\"https://colab.research.google.com/assets/colab-badge.svg\" alt=\"Open In Colab\"/></a>"
      ]
    },
    {
      "cell_type": "markdown",
      "source": [
        "#1. 라이브러리 및 데이터\n",
        "##Library & Data"
      ],
      "metadata": {
        "id": "svIeYC7q4Jo7"
      }
    },
    {
      "cell_type": "code",
      "source": [
        "!pip install pycaret\n",
        "!pip install optuna\n"
      ],
      "metadata": {
        "colab": {
          "base_uri": "https://localhost:8080/"
        },
        "id": "ppshMnQlrBt9",
        "outputId": "4e606e22-784a-40a4-bd8b-cc18c2724152"
      },
      "execution_count": 1,
      "outputs": [
        {
          "output_type": "stream",
          "name": "stdout",
          "text": [
            "Requirement already satisfied: pycaret in /usr/local/lib/python3.7/dist-packages (2.3.6)\n",
            "Requirement already satisfied: matplotlib in /usr/local/lib/python3.7/dist-packages (from pycaret) (3.2.2)\n",
            "Requirement already satisfied: scikit-learn==0.23.2 in /usr/local/lib/python3.7/dist-packages (from pycaret) (0.23.2)\n",
            "Requirement already satisfied: mlxtend>=0.17.0 in /usr/local/lib/python3.7/dist-packages (from pycaret) (0.19.0)\n",
            "Requirement already satisfied: pyLDAvis in /usr/local/lib/python3.7/dist-packages (from pycaret) (3.2.2)\n",
            "Requirement already satisfied: scikit-plot in /usr/local/lib/python3.7/dist-packages (from pycaret) (0.3.7)\n",
            "Requirement already satisfied: cufflinks>=0.17.0 in /usr/local/lib/python3.7/dist-packages (from pycaret) (0.17.3)\n",
            "Requirement already satisfied: joblib in /usr/local/lib/python3.7/dist-packages (from pycaret) (1.0.1)\n",
            "Requirement already satisfied: kmodes>=0.10.1 in /usr/local/lib/python3.7/dist-packages (from pycaret) (0.11.1)\n",
            "Requirement already satisfied: umap-learn in /usr/local/lib/python3.7/dist-packages (from pycaret) (0.5.2)\n",
            "Requirement already satisfied: ipywidgets in /usr/local/lib/python3.7/dist-packages (from pycaret) (7.6.5)\n",
            "Requirement already satisfied: imbalanced-learn==0.7.0 in /usr/local/lib/python3.7/dist-packages (from pycaret) (0.7.0)\n",
            "Requirement already satisfied: plotly>=4.4.1 in /usr/local/lib/python3.7/dist-packages (from pycaret) (4.4.1)\n",
            "Requirement already satisfied: pyod in /usr/local/lib/python3.7/dist-packages (from pycaret) (0.9.7)\n",
            "Requirement already satisfied: spacy<2.4.0 in /usr/local/lib/python3.7/dist-packages (from pycaret) (2.2.4)\n",
            "Requirement already satisfied: nltk in /usr/local/lib/python3.7/dist-packages (from pycaret) (3.2.5)\n",
            "Requirement already satisfied: textblob in /usr/local/lib/python3.7/dist-packages (from pycaret) (0.15.3)\n",
            "Requirement already satisfied: pyyaml<6.0.0 in /usr/local/lib/python3.7/dist-packages (from pycaret) (5.4.1)\n",
            "Requirement already satisfied: yellowbrick>=1.0.1 in /usr/local/lib/python3.7/dist-packages (from pycaret) (1.3.post1)\n",
            "Requirement already satisfied: wordcloud in /usr/local/lib/python3.7/dist-packages (from pycaret) (1.5.0)\n",
            "Requirement already satisfied: Boruta in /usr/local/lib/python3.7/dist-packages (from pycaret) (0.3)\n",
            "Requirement already satisfied: seaborn in /usr/local/lib/python3.7/dist-packages (from pycaret) (0.11.2)\n",
            "Requirement already satisfied: scipy<=1.5.4 in /usr/local/lib/python3.7/dist-packages (from pycaret) (1.5.4)\n",
            "Requirement already satisfied: pandas in /usr/local/lib/python3.7/dist-packages (from pycaret) (1.1.5)\n",
            "Requirement already satisfied: pandas-profiling>=2.8.0 in /usr/local/lib/python3.7/dist-packages (from pycaret) (3.1.0)\n",
            "Requirement already satisfied: gensim<4.0.0 in /usr/local/lib/python3.7/dist-packages (from pycaret) (3.6.0)\n",
            "Requirement already satisfied: lightgbm>=2.3.1 in /usr/local/lib/python3.7/dist-packages (from pycaret) (3.3.2)\n",
            "Requirement already satisfied: mlflow in /usr/local/lib/python3.7/dist-packages (from pycaret) (1.23.0)\n",
            "Requirement already satisfied: IPython in /usr/local/lib/python3.7/dist-packages (from pycaret) (5.5.0)\n",
            "Requirement already satisfied: numpy>=1.13.3 in /usr/local/lib/python3.7/dist-packages (from imbalanced-learn==0.7.0->pycaret) (1.19.5)\n",
            "Requirement already satisfied: threadpoolctl>=2.0.0 in /usr/local/lib/python3.7/dist-packages (from scikit-learn==0.23.2->pycaret) (3.0.0)\n",
            "Requirement already satisfied: colorlover>=0.2.1 in /usr/local/lib/python3.7/dist-packages (from cufflinks>=0.17.0->pycaret) (0.3.0)\n",
            "Requirement already satisfied: six>=1.9.0 in /usr/local/lib/python3.7/dist-packages (from cufflinks>=0.17.0->pycaret) (1.15.0)\n",
            "Requirement already satisfied: setuptools>=34.4.1 in /usr/local/lib/python3.7/dist-packages (from cufflinks>=0.17.0->pycaret) (57.4.0)\n",
            "Requirement already satisfied: smart-open>=1.2.1 in /usr/local/lib/python3.7/dist-packages (from gensim<4.0.0->pycaret) (5.2.1)\n",
            "Requirement already satisfied: decorator in /usr/local/lib/python3.7/dist-packages (from IPython->pycaret) (4.4.2)\n",
            "Requirement already satisfied: pygments in /usr/local/lib/python3.7/dist-packages (from IPython->pycaret) (2.6.1)\n",
            "Requirement already satisfied: traitlets>=4.2 in /usr/local/lib/python3.7/dist-packages (from IPython->pycaret) (5.1.1)\n",
            "Requirement already satisfied: pickleshare in /usr/local/lib/python3.7/dist-packages (from IPython->pycaret) (0.7.5)\n",
            "Requirement already satisfied: simplegeneric>0.8 in /usr/local/lib/python3.7/dist-packages (from IPython->pycaret) (0.8.1)\n",
            "Requirement already satisfied: pexpect in /usr/local/lib/python3.7/dist-packages (from IPython->pycaret) (4.8.0)\n",
            "Requirement already satisfied: prompt-toolkit<2.0.0,>=1.0.4 in /usr/local/lib/python3.7/dist-packages (from IPython->pycaret) (1.0.18)\n",
            "Requirement already satisfied: widgetsnbextension~=3.5.0 in /usr/local/lib/python3.7/dist-packages (from ipywidgets->pycaret) (3.5.2)\n",
            "Requirement already satisfied: ipython-genutils~=0.2.0 in /usr/local/lib/python3.7/dist-packages (from ipywidgets->pycaret) (0.2.0)\n",
            "Requirement already satisfied: jupyterlab-widgets>=1.0.0 in /usr/local/lib/python3.7/dist-packages (from ipywidgets->pycaret) (1.0.2)\n",
            "Requirement already satisfied: ipykernel>=4.5.1 in /usr/local/lib/python3.7/dist-packages (from ipywidgets->pycaret) (4.10.1)\n",
            "Requirement already satisfied: nbformat>=4.2.0 in /usr/local/lib/python3.7/dist-packages (from ipywidgets->pycaret) (5.1.3)\n",
            "Requirement already satisfied: tornado>=4.0 in /usr/local/lib/python3.7/dist-packages (from ipykernel>=4.5.1->ipywidgets->pycaret) (5.1.1)\n",
            "Requirement already satisfied: jupyter-client in /usr/local/lib/python3.7/dist-packages (from ipykernel>=4.5.1->ipywidgets->pycaret) (5.3.5)\n",
            "Requirement already satisfied: wheel in /usr/local/lib/python3.7/dist-packages (from lightgbm>=2.3.1->pycaret) (0.37.1)\n",
            "Requirement already satisfied: pyparsing!=2.0.4,!=2.1.2,!=2.1.6,>=2.0.1 in /usr/local/lib/python3.7/dist-packages (from matplotlib->pycaret) (3.0.6)\n",
            "Requirement already satisfied: kiwisolver>=1.0.1 in /usr/local/lib/python3.7/dist-packages (from matplotlib->pycaret) (1.3.2)\n",
            "Requirement already satisfied: python-dateutil>=2.1 in /usr/local/lib/python3.7/dist-packages (from matplotlib->pycaret) (2.8.2)\n",
            "Requirement already satisfied: cycler>=0.10 in /usr/local/lib/python3.7/dist-packages (from matplotlib->pycaret) (0.11.0)\n",
            "Requirement already satisfied: jupyter-core in /usr/local/lib/python3.7/dist-packages (from nbformat>=4.2.0->ipywidgets->pycaret) (4.9.1)\n",
            "Requirement already satisfied: jsonschema!=2.5.0,>=2.4 in /usr/local/lib/python3.7/dist-packages (from nbformat>=4.2.0->ipywidgets->pycaret) (4.3.3)\n",
            "Requirement already satisfied: pyrsistent!=0.17.0,!=0.17.1,!=0.17.2,>=0.14.0 in /usr/local/lib/python3.7/dist-packages (from jsonschema!=2.5.0,>=2.4->nbformat>=4.2.0->ipywidgets->pycaret) (0.18.0)\n",
            "Requirement already satisfied: typing-extensions in /usr/local/lib/python3.7/dist-packages (from jsonschema!=2.5.0,>=2.4->nbformat>=4.2.0->ipywidgets->pycaret) (3.10.0.2)\n",
            "Requirement already satisfied: importlib-metadata in /usr/local/lib/python3.7/dist-packages (from jsonschema!=2.5.0,>=2.4->nbformat>=4.2.0->ipywidgets->pycaret) (4.10.0)\n",
            "Requirement already satisfied: attrs>=17.4.0 in /usr/local/lib/python3.7/dist-packages (from jsonschema!=2.5.0,>=2.4->nbformat>=4.2.0->ipywidgets->pycaret) (21.4.0)\n",
            "Requirement already satisfied: importlib-resources>=1.4.0 in /usr/local/lib/python3.7/dist-packages (from jsonschema!=2.5.0,>=2.4->nbformat>=4.2.0->ipywidgets->pycaret) (5.4.0)\n",
            "Requirement already satisfied: zipp>=3.1.0 in /usr/local/lib/python3.7/dist-packages (from importlib-resources>=1.4.0->jsonschema!=2.5.0,>=2.4->nbformat>=4.2.0->ipywidgets->pycaret) (3.7.0)\n",
            "Requirement already satisfied: pytz>=2017.2 in /usr/local/lib/python3.7/dist-packages (from pandas->pycaret) (2018.9)\n",
            "Requirement already satisfied: visions[type_image_path]==0.7.4 in /usr/local/lib/python3.7/dist-packages (from pandas-profiling>=2.8.0->pycaret) (0.7.4)\n",
            "Requirement already satisfied: missingno>=0.4.2 in /usr/local/lib/python3.7/dist-packages (from pandas-profiling>=2.8.0->pycaret) (0.5.0)\n",
            "Requirement already satisfied: pydantic>=1.8.1 in /usr/local/lib/python3.7/dist-packages (from pandas-profiling>=2.8.0->pycaret) (1.9.0)\n",
            "Requirement already satisfied: requests>=2.24.0 in /usr/local/lib/python3.7/dist-packages (from pandas-profiling>=2.8.0->pycaret) (2.27.1)\n",
            "Requirement already satisfied: tqdm>=4.48.2 in /usr/local/lib/python3.7/dist-packages (from pandas-profiling>=2.8.0->pycaret) (4.62.3)\n",
            "Requirement already satisfied: htmlmin>=0.1.12 in /usr/local/lib/python3.7/dist-packages (from pandas-profiling>=2.8.0->pycaret) (0.1.12)\n",
            "Requirement already satisfied: multimethod>=1.4 in /usr/local/lib/python3.7/dist-packages (from pandas-profiling>=2.8.0->pycaret) (1.6)\n",
            "Requirement already satisfied: tangled-up-in-unicode==0.1.0 in /usr/local/lib/python3.7/dist-packages (from pandas-profiling>=2.8.0->pycaret) (0.1.0)\n",
            "Requirement already satisfied: jinja2>=2.11.1 in /usr/local/lib/python3.7/dist-packages (from pandas-profiling>=2.8.0->pycaret) (2.11.3)\n",
            "Requirement already satisfied: markupsafe~=2.0.1 in /usr/local/lib/python3.7/dist-packages (from pandas-profiling>=2.8.0->pycaret) (2.0.1)\n",
            "Requirement already satisfied: phik>=0.11.1 in /usr/local/lib/python3.7/dist-packages (from pandas-profiling>=2.8.0->pycaret) (0.12.0)\n",
            "Requirement already satisfied: networkx>=2.4 in /usr/local/lib/python3.7/dist-packages (from visions[type_image_path]==0.7.4->pandas-profiling>=2.8.0->pycaret) (2.6.3)\n",
            "Requirement already satisfied: Pillow in /usr/local/lib/python3.7/dist-packages (from visions[type_image_path]==0.7.4->pandas-profiling>=2.8.0->pycaret) (7.1.2)\n",
            "Requirement already satisfied: imagehash in /usr/local/lib/python3.7/dist-packages (from visions[type_image_path]==0.7.4->pandas-profiling>=2.8.0->pycaret) (4.2.1)\n",
            "Requirement already satisfied: retrying>=1.3.3 in /usr/local/lib/python3.7/dist-packages (from plotly>=4.4.1->pycaret) (1.3.3)\n",
            "Requirement already satisfied: wcwidth in /usr/local/lib/python3.7/dist-packages (from prompt-toolkit<2.0.0,>=1.0.4->IPython->pycaret) (0.2.5)\n",
            "Requirement already satisfied: charset-normalizer~=2.0.0 in /usr/local/lib/python3.7/dist-packages (from requests>=2.24.0->pandas-profiling>=2.8.0->pycaret) (2.0.10)\n",
            "Requirement already satisfied: idna<4,>=2.5 in /usr/local/lib/python3.7/dist-packages (from requests>=2.24.0->pandas-profiling>=2.8.0->pycaret) (2.10)\n",
            "Requirement already satisfied: certifi>=2017.4.17 in /usr/local/lib/python3.7/dist-packages (from requests>=2.24.0->pandas-profiling>=2.8.0->pycaret) (2021.10.8)\n",
            "Requirement already satisfied: urllib3<1.27,>=1.21.1 in /usr/local/lib/python3.7/dist-packages (from requests>=2.24.0->pandas-profiling>=2.8.0->pycaret) (1.24.3)\n",
            "Requirement already satisfied: murmurhash<1.1.0,>=0.28.0 in /usr/local/lib/python3.7/dist-packages (from spacy<2.4.0->pycaret) (1.0.6)\n",
            "Requirement already satisfied: wasabi<1.1.0,>=0.4.0 in /usr/local/lib/python3.7/dist-packages (from spacy<2.4.0->pycaret) (0.9.0)\n",
            "Requirement already satisfied: thinc==7.4.0 in /usr/local/lib/python3.7/dist-packages (from spacy<2.4.0->pycaret) (7.4.0)\n",
            "Requirement already satisfied: plac<1.2.0,>=0.9.6 in /usr/local/lib/python3.7/dist-packages (from spacy<2.4.0->pycaret) (1.1.3)\n",
            "Requirement already satisfied: preshed<3.1.0,>=3.0.2 in /usr/local/lib/python3.7/dist-packages (from spacy<2.4.0->pycaret) (3.0.6)\n",
            "Requirement already satisfied: srsly<1.1.0,>=1.0.2 in /usr/local/lib/python3.7/dist-packages (from spacy<2.4.0->pycaret) (1.0.5)\n",
            "Requirement already satisfied: catalogue<1.1.0,>=0.0.7 in /usr/local/lib/python3.7/dist-packages (from spacy<2.4.0->pycaret) (1.0.0)\n",
            "Requirement already satisfied: cymem<2.1.0,>=2.0.2 in /usr/local/lib/python3.7/dist-packages (from spacy<2.4.0->pycaret) (2.0.6)\n",
            "Requirement already satisfied: blis<0.5.0,>=0.4.0 in /usr/local/lib/python3.7/dist-packages (from spacy<2.4.0->pycaret) (0.4.1)\n",
            "Requirement already satisfied: notebook>=4.4.1 in /usr/local/lib/python3.7/dist-packages (from widgetsnbextension~=3.5.0->ipywidgets->pycaret) (5.3.1)\n",
            "Requirement already satisfied: nbconvert in /usr/local/lib/python3.7/dist-packages (from notebook>=4.4.1->widgetsnbextension~=3.5.0->ipywidgets->pycaret) (5.6.1)\n",
            "Requirement already satisfied: Send2Trash in /usr/local/lib/python3.7/dist-packages (from notebook>=4.4.1->widgetsnbextension~=3.5.0->ipywidgets->pycaret) (1.8.0)\n",
            "Requirement already satisfied: terminado>=0.8.1 in /usr/local/lib/python3.7/dist-packages (from notebook>=4.4.1->widgetsnbextension~=3.5.0->ipywidgets->pycaret) (0.12.1)\n",
            "Requirement already satisfied: pyzmq>=13 in /usr/local/lib/python3.7/dist-packages (from jupyter-client->ipykernel>=4.5.1->ipywidgets->pycaret) (22.3.0)\n",
            "Requirement already satisfied: ptyprocess in /usr/local/lib/python3.7/dist-packages (from terminado>=0.8.1->notebook>=4.4.1->widgetsnbextension~=3.5.0->ipywidgets->pycaret) (0.7.0)\n",
            "Requirement already satisfied: PyWavelets in /usr/local/lib/python3.7/dist-packages (from imagehash->visions[type_image_path]==0.7.4->pandas-profiling>=2.8.0->pycaret) (1.2.0)\n",
            "Requirement already satisfied: protobuf>=3.7.0 in /usr/local/lib/python3.7/dist-packages (from mlflow->pycaret) (3.17.3)\n",
            "Requirement already satisfied: sqlalchemy in /usr/local/lib/python3.7/dist-packages (from mlflow->pycaret) (1.4.29)\n",
            "Requirement already satisfied: sqlparse>=0.3.1 in /usr/local/lib/python3.7/dist-packages (from mlflow->pycaret) (0.4.2)\n",
            "Requirement already satisfied: prometheus-flask-exporter in /usr/local/lib/python3.7/dist-packages (from mlflow->pycaret) (0.18.7)\n",
            "Requirement already satisfied: docker>=4.0.0 in /usr/local/lib/python3.7/dist-packages (from mlflow->pycaret) (5.0.3)\n",
            "Requirement already satisfied: Flask in /usr/local/lib/python3.7/dist-packages (from mlflow->pycaret) (1.1.4)\n",
            "Requirement already satisfied: cloudpickle in /usr/local/lib/python3.7/dist-packages (from mlflow->pycaret) (1.3.0)\n",
            "Requirement already satisfied: alembic in /usr/local/lib/python3.7/dist-packages (from mlflow->pycaret) (1.7.5)\n",
            "Requirement already satisfied: databricks-cli>=0.8.7 in /usr/local/lib/python3.7/dist-packages (from mlflow->pycaret) (0.16.2)\n",
            "Requirement already satisfied: packaging in /usr/local/lib/python3.7/dist-packages (from mlflow->pycaret) (21.3)\n",
            "Requirement already satisfied: querystring-parser in /usr/local/lib/python3.7/dist-packages (from mlflow->pycaret) (1.2.4)\n",
            "Requirement already satisfied: gitpython>=2.1.0 in /usr/local/lib/python3.7/dist-packages (from mlflow->pycaret) (3.1.26)\n",
            "Requirement already satisfied: gunicorn in /usr/local/lib/python3.7/dist-packages (from mlflow->pycaret) (20.1.0)\n",
            "Requirement already satisfied: click>=7.0 in /usr/local/lib/python3.7/dist-packages (from mlflow->pycaret) (7.1.2)\n",
            "Requirement already satisfied: entrypoints in /usr/local/lib/python3.7/dist-packages (from mlflow->pycaret) (0.3)\n",
            "Requirement already satisfied: tabulate>=0.7.7 in /usr/local/lib/python3.7/dist-packages (from databricks-cli>=0.8.7->mlflow->pycaret) (0.8.9)\n",
            "Requirement already satisfied: websocket-client>=0.32.0 in /usr/local/lib/python3.7/dist-packages (from docker>=4.0.0->mlflow->pycaret) (1.2.3)\n",
            "Requirement already satisfied: gitdb<5,>=4.0.1 in /usr/local/lib/python3.7/dist-packages (from gitpython>=2.1.0->mlflow->pycaret) (4.0.9)\n",
            "Requirement already satisfied: smmap<6,>=3.0.1 in /usr/local/lib/python3.7/dist-packages (from gitdb<5,>=4.0.1->gitpython>=2.1.0->mlflow->pycaret) (5.0.0)\n",
            "Requirement already satisfied: Mako in /usr/local/lib/python3.7/dist-packages (from alembic->mlflow->pycaret) (1.1.6)\n",
            "Requirement already satisfied: greenlet!=0.4.17 in /usr/local/lib/python3.7/dist-packages (from sqlalchemy->mlflow->pycaret) (1.1.2)\n",
            "Requirement already satisfied: Werkzeug<2.0,>=0.15 in /usr/local/lib/python3.7/dist-packages (from Flask->mlflow->pycaret) (1.0.1)\n",
            "Requirement already satisfied: itsdangerous<2.0,>=0.24 in /usr/local/lib/python3.7/dist-packages (from Flask->mlflow->pycaret) (1.1.0)\n",
            "Requirement already satisfied: mistune<2,>=0.8.1 in /usr/local/lib/python3.7/dist-packages (from nbconvert->notebook>=4.4.1->widgetsnbextension~=3.5.0->ipywidgets->pycaret) (0.8.4)\n",
            "Requirement already satisfied: pandocfilters>=1.4.1 in /usr/local/lib/python3.7/dist-packages (from nbconvert->notebook>=4.4.1->widgetsnbextension~=3.5.0->ipywidgets->pycaret) (1.5.0)\n",
            "Requirement already satisfied: defusedxml in /usr/local/lib/python3.7/dist-packages (from nbconvert->notebook>=4.4.1->widgetsnbextension~=3.5.0->ipywidgets->pycaret) (0.7.1)\n",
            "Requirement already satisfied: testpath in /usr/local/lib/python3.7/dist-packages (from nbconvert->notebook>=4.4.1->widgetsnbextension~=3.5.0->ipywidgets->pycaret) (0.5.0)\n",
            "Requirement already satisfied: bleach in /usr/local/lib/python3.7/dist-packages (from nbconvert->notebook>=4.4.1->widgetsnbextension~=3.5.0->ipywidgets->pycaret) (4.1.0)\n",
            "Requirement already satisfied: webencodings in /usr/local/lib/python3.7/dist-packages (from bleach->nbconvert->notebook>=4.4.1->widgetsnbextension~=3.5.0->ipywidgets->pycaret) (0.5.1)\n",
            "Requirement already satisfied: prometheus-client in /usr/local/lib/python3.7/dist-packages (from prometheus-flask-exporter->mlflow->pycaret) (0.12.0)\n",
            "Requirement already satisfied: numexpr in /usr/local/lib/python3.7/dist-packages (from pyLDAvis->pycaret) (2.8.1)\n",
            "Requirement already satisfied: future in /usr/local/lib/python3.7/dist-packages (from pyLDAvis->pycaret) (0.16.0)\n",
            "Requirement already satisfied: funcy in /usr/local/lib/python3.7/dist-packages (from pyLDAvis->pycaret) (1.17)\n",
            "Requirement already satisfied: statsmodels in /usr/local/lib/python3.7/dist-packages (from pyod->pycaret) (0.10.2)\n",
            "Requirement already satisfied: numba>=0.35 in /usr/local/lib/python3.7/dist-packages (from pyod->pycaret) (0.51.2)\n",
            "Requirement already satisfied: llvmlite<0.35,>=0.34.0.dev0 in /usr/local/lib/python3.7/dist-packages (from numba>=0.35->pyod->pycaret) (0.34.0)\n",
            "Requirement already satisfied: patsy>=0.4.0 in /usr/local/lib/python3.7/dist-packages (from statsmodels->pyod->pycaret) (0.5.2)\n",
            "Requirement already satisfied: pynndescent>=0.5 in /usr/local/lib/python3.7/dist-packages (from umap-learn->pycaret) (0.5.6)\n",
            "Requirement already satisfied: optuna in /usr/local/lib/python3.7/dist-packages (2.10.0)\n",
            "Requirement already satisfied: packaging>=20.0 in /usr/local/lib/python3.7/dist-packages (from optuna) (21.3)\n",
            "Requirement already satisfied: tqdm in /usr/local/lib/python3.7/dist-packages (from optuna) (4.62.3)\n",
            "Requirement already satisfied: numpy in /usr/local/lib/python3.7/dist-packages (from optuna) (1.19.5)\n",
            "Requirement already satisfied: sqlalchemy>=1.1.0 in /usr/local/lib/python3.7/dist-packages (from optuna) (1.4.29)\n",
            "Requirement already satisfied: colorlog in /usr/local/lib/python3.7/dist-packages (from optuna) (6.6.0)\n",
            "Requirement already satisfied: alembic in /usr/local/lib/python3.7/dist-packages (from optuna) (1.7.5)\n",
            "Requirement already satisfied: PyYAML in /usr/local/lib/python3.7/dist-packages (from optuna) (5.4.1)\n",
            "Requirement already satisfied: cmaes>=0.8.2 in /usr/local/lib/python3.7/dist-packages (from optuna) (0.8.2)\n",
            "Requirement already satisfied: scipy!=1.4.0 in /usr/local/lib/python3.7/dist-packages (from optuna) (1.5.4)\n",
            "Requirement already satisfied: cliff in /usr/local/lib/python3.7/dist-packages (from optuna) (3.10.0)\n",
            "Requirement already satisfied: pyparsing!=3.0.5,>=2.0.2 in /usr/local/lib/python3.7/dist-packages (from packaging>=20.0->optuna) (3.0.6)\n",
            "Requirement already satisfied: importlib-metadata in /usr/local/lib/python3.7/dist-packages (from sqlalchemy>=1.1.0->optuna) (4.10.0)\n",
            "Requirement already satisfied: greenlet!=0.4.17 in /usr/local/lib/python3.7/dist-packages (from sqlalchemy>=1.1.0->optuna) (1.1.2)\n",
            "Requirement already satisfied: Mako in /usr/local/lib/python3.7/dist-packages (from alembic->optuna) (1.1.6)\n",
            "Requirement already satisfied: importlib-resources in /usr/local/lib/python3.7/dist-packages (from alembic->optuna) (5.4.0)\n",
            "Requirement already satisfied: autopage>=0.4.0 in /usr/local/lib/python3.7/dist-packages (from cliff->optuna) (0.4.0)\n",
            "Requirement already satisfied: pbr!=2.1.0,>=2.0.0 in /usr/local/lib/python3.7/dist-packages (from cliff->optuna) (5.8.0)\n",
            "Requirement already satisfied: PrettyTable>=0.7.2 in /usr/local/lib/python3.7/dist-packages (from cliff->optuna) (3.0.0)\n",
            "Requirement already satisfied: cmd2>=1.0.0 in /usr/local/lib/python3.7/dist-packages (from cliff->optuna) (2.3.3)\n",
            "Requirement already satisfied: stevedore>=2.0.1 in /usr/local/lib/python3.7/dist-packages (from cliff->optuna) (3.5.0)\n",
            "Requirement already satisfied: typing-extensions in /usr/local/lib/python3.7/dist-packages (from cmd2>=1.0.0->cliff->optuna) (3.10.0.2)\n",
            "Requirement already satisfied: wcwidth>=0.1.7 in /usr/local/lib/python3.7/dist-packages (from cmd2>=1.0.0->cliff->optuna) (0.2.5)\n",
            "Requirement already satisfied: pyperclip>=1.6 in /usr/local/lib/python3.7/dist-packages (from cmd2>=1.0.0->cliff->optuna) (1.8.2)\n",
            "Requirement already satisfied: attrs>=16.3.0 in /usr/local/lib/python3.7/dist-packages (from cmd2>=1.0.0->cliff->optuna) (21.4.0)\n",
            "Requirement already satisfied: zipp>=0.5 in /usr/local/lib/python3.7/dist-packages (from importlib-metadata->sqlalchemy>=1.1.0->optuna) (3.7.0)\n",
            "Requirement already satisfied: MarkupSafe>=0.9.2 in /usr/local/lib/python3.7/dist-packages (from Mako->alembic->optuna) (2.0.1)\n"
          ]
        }
      ]
    },
    {
      "cell_type": "code",
      "source": [
        "import pandas as pd\n",
        "import matplotlib.pyplot as plt\n",
        "import numpy as np\n",
        "import seaborn as sns\n",
        "import optuna\n",
        "from optuna.samplers import TPESampler\n",
        "from sklearn.metrics import mean_squared_error\n",
        "from sklearn.ensemble import ExtraTreesRegressor\n",
        "from sklearn.ensemble import RandomForestRegressor\n",
        "from sklearn.model_selection import train_test_split"
      ],
      "metadata": {
        "id": "SE7FQgjO4JWN"
      },
      "execution_count": 2,
      "outputs": []
    },
    {
      "cell_type": "markdown",
      "source": [
        "##데이터 로딩 및 확인"
      ],
      "metadata": {
        "id": "red7Ikju4WBj"
      }
    },
    {
      "cell_type": "code",
      "execution_count": 3,
      "metadata": {
        "id": "rCEjGS-Y1eyc"
      },
      "outputs": [],
      "source": [
        "bike_data = pd.read_csv('/content/drive/MyDrive/tmp/따릉이/train.csv')\n",
        "bike_data.drop(['id'], axis = 1, inplace=True)\n",
        "test = pd.read_csv('/content/drive/MyDrive/tmp/따릉이/test.csv')\n",
        "test.drop(['id'], axis = 1, inplace=True)\n",
        "submission = pd.read_csv('/content/drive/MyDrive/tmp/따릉이/submission.csv')"
      ]
    },
    {
      "cell_type": "markdown",
      "source": [
        "결측치 처리"
      ],
      "metadata": {
        "id": "giqzQ7uc_5si"
      }
    },
    {
      "cell_type": "code",
      "source": [
        "from sklearn.experimental import enable_iterative_imputer\n",
        "from sklearn.impute import IterativeImputer\n",
        "\n",
        "it_train = bike_data.copy()\n",
        "it_train = IterativeImputer(random_state=1).fit_transform(it_train)\n",
        "\n",
        "itImp = pd.DataFrame(it_train)\n",
        "itImp.columns = bike_data.columns"
      ],
      "metadata": {
        "colab": {
          "base_uri": "https://localhost:8080/"
        },
        "id": "uy6Gwj5d_SCg",
        "outputId": "b6b9d154-9b54-48c0-9d14-8b8bace2f3cc"
      },
      "execution_count": 4,
      "outputs": [
        {
          "output_type": "stream",
          "name": "stderr",
          "text": [
            "/usr/local/lib/python3.7/dist-packages/sklearn/impute/_iterative.py:670: ConvergenceWarning:\n",
            "\n",
            "[IterativeImputer] Early stopping criterion not reached.\n",
            "\n"
          ]
        }
      ]
    },
    {
      "cell_type": "markdown",
      "source": [
        "이상치 처리"
      ],
      "metadata": {
        "id": "uxCvzBl8_7JI"
      }
    },
    {
      "cell_type": "code",
      "source": [
        "itImp_mid = itImp.copy()\n",
        "\n",
        "col_name = bike_data.columns.drop(['hour_bef_precipitation'])\n",
        "for iIt in col_name:\n",
        "  Q1=itImp_mid[iIt].quantile(0.25)\n",
        "  Q3=itImp_mid[iIt].quantile(0.75)\n",
        "  IQR = Q3-Q1\n",
        "  train_delout = itImp_mid[(itImp_mid[iIt]<(Q1 - 1.5*IQR)) | (itImp_mid[iIt] > (Q3 + 1.5*IQR))]\n",
        "  itImp_mid = itImp_mid.drop(train_delout.index, axis = 0)"
      ],
      "metadata": {
        "id": "OKOCLVdR_4ro"
      },
      "execution_count": 7,
      "outputs": []
    },
    {
      "cell_type": "markdown",
      "source": [
        "더미변수 추가\n"
      ],
      "metadata": {
        "id": "sSNIJTRKLF5b"
      }
    },
    {
      "cell_type": "code",
      "source": [
        "def busyHourGen(data, col):\n",
        "  lst = data[col]\n",
        "  lst_ = []\n",
        "  for i in lst:\n",
        "    if (6 < i < 10) or (16 < i < 20):\n",
        "      lst_.append(1)\n",
        "    else:\n",
        "      lst_.append(0)\n",
        "  data['busy_hour'] = lst_\n",
        "  return data\n",
        "\n",
        "an = busyHourGen(itImp_mid, 'hour') # an = busy_hour 추가된 데이터셋"
      ],
      "metadata": {
        "id": "ZmvX7QWCLItS"
      },
      "execution_count": 9,
      "outputs": []
    },
    {
      "cell_type": "markdown",
      "source": [
        "훈련용 검증용 변수 분리"
      ],
      "metadata": {
        "id": "HMuNx0x4jKjz"
      }
    },
    {
      "cell_type": "code",
      "source": [
        "# Filter rows with missing price values\n",
        "# X = an.drop(['count'], axis=1)\n",
        "X = an[an.columns.difference(['count', 'hour_bef_visibility'])]\n",
        "X = np.column_stack((X['hour']**5, X['hour_bef_temperature']**4, X))\n",
        "y = an['count']\n",
        "\n",
        "train_X, val_X, train_y, val_y = train_test_split(X, y, shuffle = True, random_state=2021, test_size=0.33)"
      ],
      "metadata": {
        "id": "lncN7outjlYa"
      },
      "execution_count": 11,
      "outputs": []
    },
    {
      "cell_type": "code",
      "source": [
        "def objective_extratree(trial):\n",
        "  params_et = {\n",
        "      \"n_estimators\": trial.suggest_int(\"n_estimators\", 500, 700, step=1),\n",
        "      \"max_depth\": trial.suggest_int(\"max_depth\", 10, 20),\n",
        "      \"min_samples_split\": trial.suggest_int(\"min_samples_split\", 2, 4),\n",
        "      \"min_samples_leaf\": trial.suggest_int(\"min_samples_leaf\", 1, 3),\n",
        "      \"max_features\": trial.suggest_categorical(\"max_features\", [\"auto\", \"sqrt\", \"log2\", 4, 5, 6]),\n",
        "      \"warm_start\": trial.suggest_categorical(\"warm_start\", [True, False]),\n",
        "      \"random_state\": 2021\n",
        "  }\n",
        "\n",
        "  X = an[an.columns.difference(['count', 'hour_bef_visibility'])]\n",
        "  y = an['count']\n",
        "  train_X, val_X, train_y, val_y = train_test_split(X, y, shuffle = True, random_state=2021, test_size=0.2)\n",
        "\n",
        "  model = ExtraTreesRegressor(**params_et)\n",
        "  model.fit(train_X, train_y)\n",
        "\n",
        "  pred = model.predict(val_X)\n",
        "  rmse = np.sqrt(mean_squared_error(val_y, pred))\n",
        "\n",
        "  return rmse"
      ],
      "metadata": {
        "id": "6Z_NMrW-TKsn"
      },
      "execution_count": 12,
      "outputs": []
    },
    {
      "cell_type": "code",
      "source": [
        "sampler = TPESampler(seed=2021)\n",
        "study = optuna.create_study(\n",
        "    study_name=\"et_optimizer\",\n",
        "    direction=\"minimize\", \n",
        "    sampler=sampler,\n",
        "    )"
      ],
      "metadata": {
        "colab": {
          "base_uri": "https://localhost:8080/"
        },
        "id": "7s1_7XHUU1MA",
        "outputId": "8b4891c0-dcb5-42e5-e174-f1f1bf86ff86"
      },
      "execution_count": 13,
      "outputs": [
        {
          "output_type": "stream",
          "name": "stderr",
          "text": [
            "\u001b[32m[I 2022-01-21 12:30:25,028]\u001b[0m A new study created in memory with name: et_optimizer\u001b[0m\n"
          ]
        }
      ]
    },
    {
      "cell_type": "code",
      "source": [
        "#독립변수, 종속변수 설정\n",
        "X = an[an.columns.difference(['id', 'count', 'hour_bef_visibility'])]\n",
        "colls = X.columns.tolist()\n",
        "X = np.column_stack((X['hour']**5, X['hour_bef_temperature']**4, X))\n",
        "y = an['count']\n",
        "\n",
        "#테스트셋 전처리(결측치, 더미 변수 추가)\n",
        "it_test = test[test.columns.difference(['id', 'hour_bef_visibility'])].copy()\n",
        "it_test = busyHourGen(it_test, 'hour')\n",
        "it_test = it_test[colls]\n",
        "X_test = np.column_stack((it_test['hour']**5, it_test['hour_bef_temperature']**4, it_test))\n",
        "X_test = IterativeImputer(random_state=2021).fit_transform(X_test)\n",
        "\n",
        "# ExtraTreesRegressor\n",
        "best_reg = ExtraTreesRegressor(n_estimators=620, max_depth=19, warm_start=True, random_state=2021)\n",
        "best_reg.fit(X, y)\n",
        "predicts = best_reg.predict(X_test)\n",
        "\n",
        "submission['count'] = predicts\n",
        "submission.to_csv('final.csv', index=False)\n",
        "\n",
        "submission['count'] = predicts.round(0)\n",
        "submission.to_csv('final_rounded.csv', index=False)"
      ],
      "metadata": {
        "id": "xHKqm0twnlXe"
      },
      "execution_count": 18,
      "outputs": []
    },
    {
      "cell_type": "code",
      "source": [
        "study.optimize(objective_extratree, n_trials=100)"
      ],
      "metadata": {
        "colab": {
          "base_uri": "https://localhost:8080/"
        },
        "id": "qonuiIRClt8A",
        "outputId": "449a84be-c37e-4d8f-bb63-a922df799736"
      },
      "execution_count": 14,
      "outputs": [
        {
          "output_type": "stream",
          "name": "stderr",
          "text": [
            "\u001b[32m[I 2022-01-21 12:30:29,380]\u001b[0m Trial 0 finished with value: 40.366999212472514 and parameters: {'n_estimators': 621, 'max_depth': 18, 'min_samples_split': 2, 'min_samples_leaf': 1, 'max_features': 'auto', 'warm_start': True}. Best is trial 0 with value: 40.366999212472514.\u001b[0m\n",
            "\u001b[32m[I 2022-01-21 12:30:30,321]\u001b[0m Trial 1 finished with value: 40.09807204778074 and parameters: {'n_estimators': 693, 'max_depth': 16, 'min_samples_split': 2, 'min_samples_leaf': 2, 'max_features': 'sqrt', 'warm_start': True}. Best is trial 1 with value: 40.09807204778074.\u001b[0m\n",
            "\u001b[32m[I 2022-01-21 12:30:31,191]\u001b[0m Trial 2 finished with value: 39.84898582200252 and parameters: {'n_estimators': 617, 'max_depth': 15, 'min_samples_split': 3, 'min_samples_leaf': 3, 'max_features': 5, 'warm_start': False}. Best is trial 2 with value: 39.84898582200252.\u001b[0m\n",
            "\u001b[32m[I 2022-01-21 12:30:31,984]\u001b[0m Trial 3 finished with value: 39.75870680335304 and parameters: {'n_estimators': 560, 'max_depth': 19, 'min_samples_split': 3, 'min_samples_leaf': 3, 'max_features': 5, 'warm_start': True}. Best is trial 3 with value: 39.75870680335304.\u001b[0m\n",
            "\u001b[32m[I 2022-01-21 12:30:32,914]\u001b[0m Trial 4 finished with value: 38.91180762678316 and parameters: {'n_estimators': 628, 'max_depth': 13, 'min_samples_split': 4, 'min_samples_leaf': 1, 'max_features': 4, 'warm_start': False}. Best is trial 4 with value: 38.91180762678316.\u001b[0m\n",
            "\u001b[32m[I 2022-01-21 12:30:33,587]\u001b[0m Trial 5 finished with value: 40.47998929410742 and parameters: {'n_estimators': 512, 'max_depth': 14, 'min_samples_split': 2, 'min_samples_leaf': 3, 'max_features': 4, 'warm_start': False}. Best is trial 4 with value: 38.91180762678316.\u001b[0m\n",
            "\u001b[32m[I 2022-01-21 12:30:34,380]\u001b[0m Trial 6 finished with value: 41.05044918989132 and parameters: {'n_estimators': 659, 'max_depth': 13, 'min_samples_split': 3, 'min_samples_leaf': 3, 'max_features': 'sqrt', 'warm_start': True}. Best is trial 4 with value: 38.91180762678316.\u001b[0m\n",
            "\u001b[32m[I 2022-01-21 12:30:35,457]\u001b[0m Trial 7 finished with value: 39.860674431424684 and parameters: {'n_estimators': 695, 'max_depth': 14, 'min_samples_split': 2, 'min_samples_leaf': 3, 'max_features': 6, 'warm_start': False}. Best is trial 4 with value: 38.91180762678316.\u001b[0m\n",
            "\u001b[32m[I 2022-01-21 12:30:36,274]\u001b[0m Trial 8 finished with value: 40.34771472780937 and parameters: {'n_estimators': 630, 'max_depth': 13, 'min_samples_split': 3, 'min_samples_leaf': 2, 'max_features': 'sqrt', 'warm_start': False}. Best is trial 4 with value: 38.91180762678316.\u001b[0m\n",
            "\u001b[32m[I 2022-01-21 12:30:37,054]\u001b[0m Trial 9 finished with value: 41.785065421112236 and parameters: {'n_estimators': 644, 'max_depth': 11, 'min_samples_split': 3, 'min_samples_leaf': 3, 'max_features': 'log2', 'warm_start': True}. Best is trial 4 with value: 38.91180762678316.\u001b[0m\n",
            "\u001b[32m[I 2022-01-21 12:30:37,986]\u001b[0m Trial 10 finished with value: 38.4958783689818 and parameters: {'n_estimators': 561, 'max_depth': 17, 'min_samples_split': 4, 'min_samples_leaf': 1, 'max_features': 4, 'warm_start': False}. Best is trial 10 with value: 38.4958783689818.\u001b[0m\n",
            "\u001b[32m[I 2022-01-21 12:30:38,988]\u001b[0m Trial 11 finished with value: 38.52932960587801 and parameters: {'n_estimators': 579, 'max_depth': 17, 'min_samples_split': 4, 'min_samples_leaf': 1, 'max_features': 4, 'warm_start': False}. Best is trial 10 with value: 38.4958783689818.\u001b[0m\n",
            "\u001b[32m[I 2022-01-21 12:30:39,918]\u001b[0m Trial 12 finished with value: 38.50163902157387 and parameters: {'n_estimators': 568, 'max_depth': 17, 'min_samples_split': 4, 'min_samples_leaf': 1, 'max_features': 4, 'warm_start': False}. Best is trial 10 with value: 38.4958783689818.\u001b[0m\n",
            "\u001b[32m[I 2022-01-21 12:30:40,811]\u001b[0m Trial 13 finished with value: 38.60527781315437 and parameters: {'n_estimators': 537, 'max_depth': 20, 'min_samples_split': 4, 'min_samples_leaf': 1, 'max_features': 4, 'warm_start': False}. Best is trial 10 with value: 38.4958783689818.\u001b[0m\n",
            "\u001b[32m[I 2022-01-21 12:30:41,709]\u001b[0m Trial 14 finished with value: 39.37677949538642 and parameters: {'n_estimators': 583, 'max_depth': 17, 'min_samples_split': 4, 'min_samples_leaf': 2, 'max_features': 4, 'warm_start': False}. Best is trial 10 with value: 38.4958783689818.\u001b[0m\n",
            "\u001b[32m[I 2022-01-21 12:30:42,988]\u001b[0m Trial 15 finished with value: 40.56218423572153 and parameters: {'n_estimators': 542, 'max_depth': 18, 'min_samples_split': 4, 'min_samples_leaf': 1, 'max_features': 'auto', 'warm_start': False}. Best is trial 10 with value: 38.4958783689818.\u001b[0m\n",
            "\u001b[32m[I 2022-01-21 12:30:44,164]\u001b[0m Trial 16 finished with value: 39.382410260801755 and parameters: {'n_estimators': 595, 'max_depth': 16, 'min_samples_split': 4, 'min_samples_leaf': 1, 'max_features': 6, 'warm_start': False}. Best is trial 10 with value: 38.4958783689818.\u001b[0m\n",
            "\u001b[32m[I 2022-01-21 12:30:44,888]\u001b[0m Trial 17 finished with value: 39.97628411639648 and parameters: {'n_estimators': 502, 'max_depth': 20, 'min_samples_split': 4, 'min_samples_leaf': 2, 'max_features': 'log2', 'warm_start': False}. Best is trial 10 with value: 38.4958783689818.\u001b[0m\n",
            "\u001b[32m[I 2022-01-21 12:30:45,691]\u001b[0m Trial 18 finished with value: 39.2184727916211 and parameters: {'n_estimators': 557, 'max_depth': 11, 'min_samples_split': 4, 'min_samples_leaf': 1, 'max_features': 4, 'warm_start': False}. Best is trial 10 with value: 38.4958783689818.\u001b[0m\n",
            "\u001b[32m[I 2022-01-21 12:30:46,498]\u001b[0m Trial 19 finished with value: 39.338101035218216 and parameters: {'n_estimators': 522, 'max_depth': 18, 'min_samples_split': 4, 'min_samples_leaf': 2, 'max_features': 4, 'warm_start': False}. Best is trial 10 with value: 38.4958783689818.\u001b[0m\n",
            "\u001b[32m[I 2022-01-21 12:30:47,503]\u001b[0m Trial 20 finished with value: 38.59998824771209 and parameters: {'n_estimators': 568, 'max_depth': 16, 'min_samples_split': 3, 'min_samples_leaf': 1, 'max_features': 4, 'warm_start': False}. Best is trial 10 with value: 38.4958783689818.\u001b[0m\n",
            "\u001b[32m[I 2022-01-21 12:30:48,476]\u001b[0m Trial 21 finished with value: 38.52940810477615 and parameters: {'n_estimators': 586, 'max_depth': 17, 'min_samples_split': 4, 'min_samples_leaf': 1, 'max_features': 4, 'warm_start': False}. Best is trial 10 with value: 38.4958783689818.\u001b[0m\n",
            "\u001b[32m[I 2022-01-21 12:30:49,430]\u001b[0m Trial 22 finished with value: 38.5150461287812 and parameters: {'n_estimators': 572, 'max_depth': 17, 'min_samples_split': 4, 'min_samples_leaf': 1, 'max_features': 4, 'warm_start': False}. Best is trial 10 with value: 38.4958783689818.\u001b[0m\n",
            "\u001b[32m[I 2022-01-21 12:30:50,342]\u001b[0m Trial 23 finished with value: 38.81816586833943 and parameters: {'n_estimators': 538, 'max_depth': 19, 'min_samples_split': 4, 'min_samples_leaf': 1, 'max_features': 4, 'warm_start': False}. Best is trial 10 with value: 38.4958783689818.\u001b[0m\n",
            "\u001b[32m[I 2022-01-21 12:30:51,357]\u001b[0m Trial 24 finished with value: 38.91793435852103 and parameters: {'n_estimators': 606, 'max_depth': 15, 'min_samples_split': 4, 'min_samples_leaf': 1, 'max_features': 4, 'warm_start': False}. Best is trial 10 with value: 38.4958783689818.\u001b[0m\n",
            "\u001b[32m[I 2022-01-21 12:30:52,320]\u001b[0m Trial 25 finished with value: 39.689135286164465 and parameters: {'n_estimators': 555, 'max_depth': 17, 'min_samples_split': 3, 'min_samples_leaf': 2, 'max_features': 6, 'warm_start': False}. Best is trial 10 with value: 38.4958783689818.\u001b[0m\n",
            "\u001b[32m[I 2022-01-21 12:30:53,339]\u001b[0m Trial 26 finished with value: 38.64568331434406 and parameters: {'n_estimators': 570, 'max_depth': 19, 'min_samples_split': 4, 'min_samples_leaf': 1, 'max_features': 5, 'warm_start': True}. Best is trial 10 with value: 38.4958783689818.\u001b[0m\n",
            "\u001b[32m[I 2022-01-21 12:30:54,155]\u001b[0m Trial 27 finished with value: 39.15498111224034 and parameters: {'n_estimators': 548, 'max_depth': 16, 'min_samples_split': 4, 'min_samples_leaf': 1, 'max_features': 'log2', 'warm_start': False}. Best is trial 10 with value: 38.4958783689818.\u001b[0m\n",
            "\u001b[32m[I 2022-01-21 12:30:55,280]\u001b[0m Trial 28 finished with value: 40.6726495371938 and parameters: {'n_estimators': 528, 'max_depth': 18, 'min_samples_split': 3, 'min_samples_leaf': 2, 'max_features': 'auto', 'warm_start': False}. Best is trial 10 with value: 38.4958783689818.\u001b[0m\n",
            "\u001b[32m[I 2022-01-21 12:30:56,675]\u001b[0m Trial 29 finished with value: 40.52751481236464 and parameters: {'n_estimators': 602, 'max_depth': 15, 'min_samples_split': 4, 'min_samples_leaf': 1, 'max_features': 'auto', 'warm_start': True}. Best is trial 10 with value: 38.4958783689818.\u001b[0m\n",
            "\u001b[32m[I 2022-01-21 12:30:57,627]\u001b[0m Trial 30 finished with value: 38.51504364294736 and parameters: {'n_estimators': 574, 'max_depth': 18, 'min_samples_split': 4, 'min_samples_leaf': 1, 'max_features': 4, 'warm_start': False}. Best is trial 10 with value: 38.4958783689818.\u001b[0m\n",
            "\u001b[32m[I 2022-01-21 12:30:58,577]\u001b[0m Trial 31 finished with value: 38.51058358006345 and parameters: {'n_estimators': 572, 'max_depth': 18, 'min_samples_split': 4, 'min_samples_leaf': 1, 'max_features': 4, 'warm_start': False}. Best is trial 10 with value: 38.4958783689818.\u001b[0m\n",
            "\u001b[32m[I 2022-01-21 12:30:59,553]\u001b[0m Trial 32 finished with value: 38.768165234118065 and parameters: {'n_estimators': 590, 'max_depth': 19, 'min_samples_split': 4, 'min_samples_leaf': 1, 'max_features': 4, 'warm_start': False}. Best is trial 10 with value: 38.4958783689818.\u001b[0m\n",
            "\u001b[32m[I 2022-01-21 12:31:00,550]\u001b[0m Trial 33 finished with value: 38.54581396027922 and parameters: {'n_estimators': 604, 'max_depth': 18, 'min_samples_split': 4, 'min_samples_leaf': 1, 'max_features': 4, 'warm_start': False}. Best is trial 10 with value: 38.4958783689818.\u001b[0m\n",
            "\u001b[32m[I 2022-01-21 12:31:01,553]\u001b[0m Trial 34 finished with value: 38.842740835475226 and parameters: {'n_estimators': 562, 'max_depth': 18, 'min_samples_split': 4, 'min_samples_leaf': 1, 'max_features': 5, 'warm_start': True}. Best is trial 10 with value: 38.4958783689818.\u001b[0m\n",
            "\u001b[32m[I 2022-01-21 12:31:02,508]\u001b[0m Trial 35 finished with value: 38.71765910518827 and parameters: {'n_estimators': 578, 'max_depth': 16, 'min_samples_split': 3, 'min_samples_leaf': 1, 'max_features': 'sqrt', 'warm_start': False}. Best is trial 10 with value: 38.4958783689818.\u001b[0m\n",
            "\u001b[32m[I 2022-01-21 12:31:03,358]\u001b[0m Trial 36 finished with value: 39.32943734765609 and parameters: {'n_estimators': 551, 'max_depth': 20, 'min_samples_split': 4, 'min_samples_leaf': 2, 'max_features': 4, 'warm_start': False}. Best is trial 10 with value: 38.4958783689818.\u001b[0m\n",
            "\u001b[32m[I 2022-01-21 12:31:04,565]\u001b[0m Trial 37 finished with value: 38.63360461994904 and parameters: {'n_estimators': 616, 'max_depth': 19, 'min_samples_split': 2, 'min_samples_leaf': 1, 'max_features': 4, 'warm_start': False}. Best is trial 10 with value: 38.4958783689818.\u001b[0m\n",
            "\u001b[32m[I 2022-01-21 12:31:05,507]\u001b[0m Trial 38 finished with value: 38.75073270489613 and parameters: {'n_estimators': 524, 'max_depth': 18, 'min_samples_split': 3, 'min_samples_leaf': 1, 'max_features': 4, 'warm_start': True}. Best is trial 10 with value: 38.4958783689818.\u001b[0m\n",
            "\u001b[32m[I 2022-01-21 12:31:06,702]\u001b[0m Trial 39 finished with value: 38.85643454814603 and parameters: {'n_estimators': 684, 'max_depth': 17, 'min_samples_split': 4, 'min_samples_leaf': 1, 'max_features': 5, 'warm_start': False}. Best is trial 10 with value: 38.4958783689818.\u001b[0m\n",
            "\u001b[32m[I 2022-01-21 12:31:07,400]\u001b[0m Trial 40 finished with value: 41.2137932964256 and parameters: {'n_estimators': 564, 'max_depth': 10, 'min_samples_split': 4, 'min_samples_leaf': 2, 'max_features': 'sqrt', 'warm_start': False}. Best is trial 10 with value: 38.4958783689818.\u001b[0m\n",
            "\u001b[32m[I 2022-01-21 12:31:08,366]\u001b[0m Trial 41 finished with value: 38.515549492106025 and parameters: {'n_estimators': 571, 'max_depth': 17, 'min_samples_split': 4, 'min_samples_leaf': 1, 'max_features': 4, 'warm_start': False}. Best is trial 10 with value: 38.4958783689818.\u001b[0m\n",
            "\u001b[32m[I 2022-01-21 12:31:09,357]\u001b[0m Trial 42 finished with value: 38.80960140961622 and parameters: {'n_estimators': 577, 'max_depth': 16, 'min_samples_split': 4, 'min_samples_leaf': 1, 'max_features': 4, 'warm_start': False}. Best is trial 10 with value: 38.4958783689818.\u001b[0m\n",
            "\u001b[32m[I 2022-01-21 12:31:10,374]\u001b[0m Trial 43 finished with value: 38.914199861557066 and parameters: {'n_estimators': 593, 'max_depth': 15, 'min_samples_split': 4, 'min_samples_leaf': 1, 'max_features': 4, 'warm_start': False}. Best is trial 10 with value: 38.4958783689818.\u001b[0m\n",
            "\u001b[32m[I 2022-01-21 12:31:11,254]\u001b[0m Trial 44 finished with value: 38.8927462112039 and parameters: {'n_estimators': 551, 'max_depth': 14, 'min_samples_split': 4, 'min_samples_leaf': 1, 'max_features': 4, 'warm_start': False}. Best is trial 10 with value: 38.4958783689818.\u001b[0m\n",
            "\u001b[32m[I 2022-01-21 12:31:12,415]\u001b[0m Trial 45 finished with value: 39.10635075273559 and parameters: {'n_estimators': 610, 'max_depth': 17, 'min_samples_split': 4, 'min_samples_leaf': 1, 'max_features': 6, 'warm_start': False}. Best is trial 10 with value: 38.4958783689818.\u001b[0m\n",
            "\u001b[32m[I 2022-01-21 12:31:13,439]\u001b[0m Trial 46 finished with value: 38.73738362598892 and parameters: {'n_estimators': 574, 'max_depth': 19, 'min_samples_split': 3, 'min_samples_leaf': 1, 'max_features': 4, 'warm_start': True}. Best is trial 10 with value: 38.4958783689818.\u001b[0m\n",
            "\u001b[32m[I 2022-01-21 12:31:14,282]\u001b[0m Trial 47 finished with value: 38.96268604910868 and parameters: {'n_estimators': 544, 'max_depth': 18, 'min_samples_split': 4, 'min_samples_leaf': 1, 'max_features': 'log2', 'warm_start': False}. Best is trial 10 with value: 38.4958783689818.\u001b[0m\n",
            "\u001b[32m[I 2022-01-21 12:31:15,137]\u001b[0m Trial 48 finished with value: 40.24703313359241 and parameters: {'n_estimators': 586, 'max_depth': 17, 'min_samples_split': 4, 'min_samples_leaf': 3, 'max_features': 4, 'warm_start': False}. Best is trial 10 with value: 38.4958783689818.\u001b[0m\n",
            "\u001b[32m[I 2022-01-21 12:31:16,693]\u001b[0m Trial 49 finished with value: 40.38045157557087 and parameters: {'n_estimators': 559, 'max_depth': 16, 'min_samples_split': 2, 'min_samples_leaf': 1, 'max_features': 'auto', 'warm_start': False}. Best is trial 10 with value: 38.4958783689818.\u001b[0m\n",
            "\u001b[32m[I 2022-01-21 12:31:17,645]\u001b[0m Trial 50 finished with value: 39.49466994640452 and parameters: {'n_estimators': 634, 'max_depth': 14, 'min_samples_split': 4, 'min_samples_leaf': 2, 'max_features': 4, 'warm_start': False}. Best is trial 10 with value: 38.4958783689818.\u001b[0m\n",
            "\u001b[32m[I 2022-01-21 12:31:18,576]\u001b[0m Trial 51 finished with value: 38.512381161715886 and parameters: {'n_estimators': 570, 'max_depth': 17, 'min_samples_split': 4, 'min_samples_leaf': 1, 'max_features': 4, 'warm_start': False}. Best is trial 10 with value: 38.4958783689818.\u001b[0m\n",
            "\u001b[32m[I 2022-01-21 12:31:19,539]\u001b[0m Trial 52 finished with value: 38.51909048914495 and parameters: {'n_estimators': 596, 'max_depth': 17, 'min_samples_split': 4, 'min_samples_leaf': 1, 'max_features': 4, 'warm_start': False}. Best is trial 10 with value: 38.4958783689818.\u001b[0m\n",
            "\u001b[32m[I 2022-01-21 12:31:20,425]\u001b[0m Trial 53 finished with value: 38.47231091798471 and parameters: {'n_estimators': 535, 'max_depth': 18, 'min_samples_split': 4, 'min_samples_leaf': 1, 'max_features': 4, 'warm_start': False}. Best is trial 53 with value: 38.47231091798471.\u001b[0m\n",
            "\u001b[32m[I 2022-01-21 12:31:21,310]\u001b[0m Trial 54 finished with value: 38.46209872616707 and parameters: {'n_estimators': 534, 'max_depth': 18, 'min_samples_split': 4, 'min_samples_leaf': 1, 'max_features': 4, 'warm_start': False}. Best is trial 54 with value: 38.46209872616707.\u001b[0m\n",
            "\u001b[32m[I 2022-01-21 12:31:22,109]\u001b[0m Trial 55 finished with value: 39.073313824553495 and parameters: {'n_estimators': 512, 'max_depth': 19, 'min_samples_split': 4, 'min_samples_leaf': 1, 'max_features': 'sqrt', 'warm_start': False}. Best is trial 54 with value: 38.46209872616707.\u001b[0m\n",
            "\u001b[32m[I 2022-01-21 12:31:22,983]\u001b[0m Trial 56 finished with value: 38.46209872616707 and parameters: {'n_estimators': 534, 'max_depth': 18, 'min_samples_split': 4, 'min_samples_leaf': 1, 'max_features': 4, 'warm_start': False}. Best is trial 54 with value: 38.46209872616707.\u001b[0m\n",
            "\u001b[32m[I 2022-01-21 12:31:23,985]\u001b[0m Trial 57 finished with value: 39.006062425081346 and parameters: {'n_estimators': 532, 'max_depth': 20, 'min_samples_split': 4, 'min_samples_leaf': 1, 'max_features': 6, 'warm_start': False}. Best is trial 54 with value: 38.46209872616707.\u001b[0m\n",
            "\u001b[32m[I 2022-01-21 12:31:24,828]\u001b[0m Trial 58 finished with value: 38.44504999610794 and parameters: {'n_estimators': 515, 'max_depth': 18, 'min_samples_split': 4, 'min_samples_leaf': 1, 'max_features': 4, 'warm_start': False}. Best is trial 58 with value: 38.44504999610794.\u001b[0m\n",
            "\u001b[32m[I 2022-01-21 12:31:25,689]\u001b[0m Trial 59 finished with value: 38.92926151303857 and parameters: {'n_estimators': 513, 'max_depth': 19, 'min_samples_split': 3, 'min_samples_leaf': 1, 'max_features': 'log2', 'warm_start': True}. Best is trial 58 with value: 38.44504999610794.\u001b[0m\n",
            "\u001b[32m[I 2022-01-21 12:31:26,456]\u001b[0m Trial 60 finished with value: 39.31023982318125 and parameters: {'n_estimators': 503, 'max_depth': 18, 'min_samples_split': 4, 'min_samples_leaf': 2, 'max_features': 4, 'warm_start': False}. Best is trial 58 with value: 38.44504999610794.\u001b[0m\n",
            "\u001b[32m[I 2022-01-21 12:31:27,298]\u001b[0m Trial 61 finished with value: 38.44349957909441 and parameters: {'n_estimators': 517, 'max_depth': 18, 'min_samples_split': 4, 'min_samples_leaf': 1, 'max_features': 4, 'warm_start': False}. Best is trial 61 with value: 38.44349957909441.\u001b[0m\n",
            "\u001b[32m[I 2022-01-21 12:31:28,164]\u001b[0m Trial 62 finished with value: 38.44891152814484 and parameters: {'n_estimators': 518, 'max_depth': 18, 'min_samples_split': 4, 'min_samples_leaf': 1, 'max_features': 4, 'warm_start': False}. Best is trial 61 with value: 38.44349957909441.\u001b[0m\n",
            "\u001b[32m[I 2022-01-21 12:31:29,049]\u001b[0m Trial 63 finished with value: 38.8467349568722 and parameters: {'n_estimators': 518, 'max_depth': 19, 'min_samples_split': 4, 'min_samples_leaf': 1, 'max_features': 4, 'warm_start': False}. Best is trial 61 with value: 38.44349957909441.\u001b[0m\n",
            "\u001b[32m[I 2022-01-21 12:31:29,936]\u001b[0m Trial 64 finished with value: 38.46349999339998 and parameters: {'n_estimators': 533, 'max_depth': 18, 'min_samples_split': 4, 'min_samples_leaf': 1, 'max_features': 4, 'warm_start': False}. Best is trial 61 with value: 38.44349957909441.\u001b[0m\n",
            "\u001b[32m[I 2022-01-21 12:31:30,816]\u001b[0m Trial 65 finished with value: 38.46209872616707 and parameters: {'n_estimators': 534, 'max_depth': 18, 'min_samples_split': 4, 'min_samples_leaf': 1, 'max_features': 4, 'warm_start': False}. Best is trial 61 with value: 38.44349957909441.\u001b[0m\n",
            "\u001b[32m[I 2022-01-21 12:31:31,651]\u001b[0m Trial 66 finished with value: 38.45008719307151 and parameters: {'n_estimators': 504, 'max_depth': 18, 'min_samples_split': 4, 'min_samples_leaf': 1, 'max_features': 4, 'warm_start': False}. Best is trial 61 with value: 38.44349957909441.\u001b[0m\n",
            "\u001b[32m[I 2022-01-21 12:31:32,581]\u001b[0m Trial 67 finished with value: 38.578704661348326 and parameters: {'n_estimators': 506, 'max_depth': 19, 'min_samples_split': 4, 'min_samples_leaf': 1, 'max_features': 5, 'warm_start': False}. Best is trial 61 with value: 38.44349957909441.\u001b[0m\n",
            "\u001b[32m[I 2022-01-21 12:31:33,308]\u001b[0m Trial 68 finished with value: 40.281376673597336 and parameters: {'n_estimators': 522, 'max_depth': 20, 'min_samples_split': 4, 'min_samples_leaf': 3, 'max_features': 4, 'warm_start': False}. Best is trial 61 with value: 38.44349957909441.\u001b[0m\n",
            "\u001b[32m[I 2022-01-21 12:31:34,050]\u001b[0m Trial 69 finished with value: 38.90645525380201 and parameters: {'n_estimators': 500, 'max_depth': 12, 'min_samples_split': 4, 'min_samples_leaf': 1, 'max_features': 4, 'warm_start': False}. Best is trial 61 with value: 38.44349957909441.\u001b[0m\n",
            "\u001b[32m[I 2022-01-21 12:31:35,247]\u001b[0m Trial 70 finished with value: 40.60130604992371 and parameters: {'n_estimators': 511, 'max_depth': 18, 'min_samples_split': 4, 'min_samples_leaf': 1, 'max_features': 'auto', 'warm_start': False}. Best is trial 61 with value: 38.44349957909441.\u001b[0m\n",
            "\u001b[32m[I 2022-01-21 12:31:36,134]\u001b[0m Trial 71 finished with value: 38.483414016811814 and parameters: {'n_estimators': 530, 'max_depth': 18, 'min_samples_split': 4, 'min_samples_leaf': 1, 'max_features': 4, 'warm_start': False}. Best is trial 61 with value: 38.44349957909441.\u001b[0m\n",
            "\u001b[32m[I 2022-01-21 12:31:36,995]\u001b[0m Trial 72 finished with value: 38.46128749556759 and parameters: {'n_estimators': 520, 'max_depth': 18, 'min_samples_split': 4, 'min_samples_leaf': 1, 'max_features': 4, 'warm_start': False}. Best is trial 61 with value: 38.44349957909441.\u001b[0m\n",
            "\u001b[32m[I 2022-01-21 12:31:37,861]\u001b[0m Trial 73 finished with value: 38.44349957909441 and parameters: {'n_estimators': 517, 'max_depth': 18, 'min_samples_split': 4, 'min_samples_leaf': 1, 'max_features': 4, 'warm_start': False}. Best is trial 61 with value: 38.44349957909441.\u001b[0m\n",
            "\u001b[32m[I 2022-01-21 12:31:38,713]\u001b[0m Trial 74 finished with value: 38.84983874895962 and parameters: {'n_estimators': 508, 'max_depth': 19, 'min_samples_split': 4, 'min_samples_leaf': 1, 'max_features': 4, 'warm_start': False}. Best is trial 61 with value: 38.44349957909441.\u001b[0m\n",
            "\u001b[32m[I 2022-01-21 12:31:39,560]\u001b[0m Trial 75 finished with value: 38.48132570500855 and parameters: {'n_estimators': 519, 'max_depth': 17, 'min_samples_split': 4, 'min_samples_leaf': 1, 'max_features': 4, 'warm_start': False}. Best is trial 61 with value: 38.44349957909441.\u001b[0m\n",
            "\u001b[32m[I 2022-01-21 12:31:40,410]\u001b[0m Trial 76 finished with value: 38.44504999610794 and parameters: {'n_estimators': 515, 'max_depth': 18, 'min_samples_split': 4, 'min_samples_leaf': 1, 'max_features': 4, 'warm_start': False}. Best is trial 61 with value: 38.44349957909441.\u001b[0m\n",
            "\u001b[32m[I 2022-01-21 12:31:41,285]\u001b[0m Trial 77 finished with value: 38.84193648832905 and parameters: {'n_estimators': 525, 'max_depth': 19, 'min_samples_split': 4, 'min_samples_leaf': 1, 'max_features': 4, 'warm_start': True}. Best is trial 61 with value: 38.44349957909441.\u001b[0m\n",
            "\u001b[32m[I 2022-01-21 12:31:42,126]\u001b[0m Trial 78 finished with value: 39.29448252766163 and parameters: {'n_estimators': 517, 'max_depth': 17, 'min_samples_split': 4, 'min_samples_leaf': 1, 'max_features': 'sqrt', 'warm_start': False}. Best is trial 61 with value: 38.44349957909441.\u001b[0m\n",
            "\u001b[32m[I 2022-01-21 12:31:43,133]\u001b[0m Trial 79 finished with value: 39.00635921220088 and parameters: {'n_estimators': 516, 'max_depth': 18, 'min_samples_split': 4, 'min_samples_leaf': 1, 'max_features': 6, 'warm_start': False}. Best is trial 61 with value: 38.44349957909441.\u001b[0m\n",
            "\u001b[32m[I 2022-01-21 12:31:44,034]\u001b[0m Trial 80 finished with value: 38.60505562315341 and parameters: {'n_estimators': 542, 'max_depth': 20, 'min_samples_split': 4, 'min_samples_leaf': 1, 'max_features': 4, 'warm_start': False}. Best is trial 61 with value: 38.44349957909441.\u001b[0m\n",
            "\u001b[32m[I 2022-01-21 12:31:44,945]\u001b[0m Trial 81 finished with value: 38.465642679526766 and parameters: {'n_estimators': 527, 'max_depth': 18, 'min_samples_split': 4, 'min_samples_leaf': 1, 'max_features': 4, 'warm_start': False}. Best is trial 61 with value: 38.44349957909441.\u001b[0m\n",
            "\u001b[32m[I 2022-01-21 12:31:45,774]\u001b[0m Trial 82 finished with value: 38.432534438339 and parameters: {'n_estimators': 506, 'max_depth': 18, 'min_samples_split': 4, 'min_samples_leaf': 1, 'max_features': 4, 'warm_start': False}. Best is trial 82 with value: 38.432534438339.\u001b[0m\n",
            "\u001b[32m[I 2022-01-21 12:31:46,628]\u001b[0m Trial 83 finished with value: 38.43710277627654 and parameters: {'n_estimators': 508, 'max_depth': 18, 'min_samples_split': 4, 'min_samples_leaf': 1, 'max_features': 4, 'warm_start': False}. Best is trial 82 with value: 38.432534438339.\u001b[0m\n",
            "\u001b[32m[I 2022-01-21 12:31:47,468]\u001b[0m Trial 84 finished with value: 38.86088800639605 and parameters: {'n_estimators': 504, 'max_depth': 19, 'min_samples_split': 4, 'min_samples_leaf': 1, 'max_features': 4, 'warm_start': False}. Best is trial 82 with value: 38.432534438339.\u001b[0m\n",
            "\u001b[32m[I 2022-01-21 12:31:48,256]\u001b[0m Trial 85 finished with value: 39.306059751978665 and parameters: {'n_estimators': 508, 'max_depth': 17, 'min_samples_split': 4, 'min_samples_leaf': 1, 'max_features': 'log2', 'warm_start': False}. Best is trial 82 with value: 38.432534438339.\u001b[0m\n",
            "\u001b[32m[I 2022-01-21 12:31:49,110]\u001b[0m Trial 86 finished with value: 38.44553852151927 and parameters: {'n_estimators': 500, 'max_depth': 18, 'min_samples_split': 4, 'min_samples_leaf': 1, 'max_features': 4, 'warm_start': False}. Best is trial 82 with value: 38.432534438339.\u001b[0m\n",
            "\u001b[32m[I 2022-01-21 12:31:50,003]\u001b[0m Trial 87 finished with value: 38.59023781736714 and parameters: {'n_estimators': 500, 'max_depth': 19, 'min_samples_split': 4, 'min_samples_leaf': 1, 'max_features': 5, 'warm_start': False}. Best is trial 82 with value: 38.432534438339.\u001b[0m\n",
            "\u001b[32m[I 2022-01-21 12:31:50,837]\u001b[0m Trial 88 finished with value: 38.525751719143905 and parameters: {'n_estimators': 513, 'max_depth': 17, 'min_samples_split': 4, 'min_samples_leaf': 1, 'max_features': 4, 'warm_start': False}. Best is trial 82 with value: 38.432534438339.\u001b[0m\n",
            "\u001b[32m[I 2022-01-21 12:31:51,663]\u001b[0m Trial 89 finished with value: 38.43692886469363 and parameters: {'n_estimators': 507, 'max_depth': 18, 'min_samples_split': 4, 'min_samples_leaf': 1, 'max_features': 4, 'warm_start': True}. Best is trial 82 with value: 38.432534438339.\u001b[0m\n",
            "\u001b[32m[I 2022-01-21 12:31:52,863]\u001b[0m Trial 90 finished with value: 40.59658954657914 and parameters: {'n_estimators': 509, 'max_depth': 18, 'min_samples_split': 4, 'min_samples_leaf': 1, 'max_features': 'auto', 'warm_start': True}. Best is trial 82 with value: 38.432534438339.\u001b[0m\n",
            "\u001b[32m[I 2022-01-21 12:31:53,689]\u001b[0m Trial 91 finished with value: 38.43804236905544 and parameters: {'n_estimators': 505, 'max_depth': 18, 'min_samples_split': 4, 'min_samples_leaf': 1, 'max_features': 4, 'warm_start': True}. Best is trial 82 with value: 38.432534438339.\u001b[0m\n",
            "\u001b[32m[I 2022-01-21 12:31:54,545]\u001b[0m Trial 92 finished with value: 38.44504999610794 and parameters: {'n_estimators': 515, 'max_depth': 18, 'min_samples_split': 4, 'min_samples_leaf': 1, 'max_features': 4, 'warm_start': True}. Best is trial 82 with value: 38.432534438339.\u001b[0m\n",
            "\u001b[32m[I 2022-01-21 12:31:55,406]\u001b[0m Trial 93 finished with value: 38.85140842349524 and parameters: {'n_estimators': 514, 'max_depth': 19, 'min_samples_split': 4, 'min_samples_leaf': 1, 'max_features': 4, 'warm_start': True}. Best is trial 82 with value: 38.432534438339.\u001b[0m\n",
            "\u001b[32m[I 2022-01-21 12:31:56,276]\u001b[0m Trial 94 finished with value: 38.47254040051392 and parameters: {'n_estimators': 525, 'max_depth': 17, 'min_samples_split': 4, 'min_samples_leaf': 1, 'max_features': 4, 'warm_start': True}. Best is trial 82 with value: 38.432534438339.\u001b[0m\n",
            "\u001b[32m[I 2022-01-21 12:31:57,133]\u001b[0m Trial 95 finished with value: 38.43692886469363 and parameters: {'n_estimators': 507, 'max_depth': 18, 'min_samples_split': 4, 'min_samples_leaf': 1, 'max_features': 4, 'warm_start': True}. Best is trial 82 with value: 38.432534438339.\u001b[0m\n",
            "\u001b[32m[I 2022-01-21 12:31:58,138]\u001b[0m Trial 96 finished with value: 38.590149520316636 and parameters: {'n_estimators': 507, 'max_depth': 17, 'min_samples_split': 2, 'min_samples_leaf': 1, 'max_features': 4, 'warm_start': True}. Best is trial 82 with value: 38.432534438339.\u001b[0m\n",
            "\u001b[32m[I 2022-01-21 12:31:59,053]\u001b[0m Trial 97 finished with value: 38.84025054030495 and parameters: {'n_estimators': 523, 'max_depth': 19, 'min_samples_split': 4, 'min_samples_leaf': 1, 'max_features': 4, 'warm_start': True}. Best is trial 82 with value: 38.432534438339.\u001b[0m\n",
            "\u001b[32m[I 2022-01-21 12:32:00,105]\u001b[0m Trial 98 finished with value: 38.7221455500924 and parameters: {'n_estimators': 539, 'max_depth': 18, 'min_samples_split': 3, 'min_samples_leaf': 1, 'max_features': 4, 'warm_start': True}. Best is trial 82 with value: 38.432534438339.\u001b[0m\n",
            "\u001b[32m[I 2022-01-21 12:32:01,090]\u001b[0m Trial 99 finished with value: 38.92993621865608 and parameters: {'n_estimators': 656, 'max_depth': 18, 'min_samples_split': 4, 'min_samples_leaf': 1, 'max_features': 'sqrt', 'warm_start': True}. Best is trial 82 with value: 38.432534438339.\u001b[0m\n"
          ]
        }
      ]
    },
    {
      "cell_type": "markdown",
      "source": [
        "변수 중요도 확인"
      ],
      "metadata": {
        "id": "a_5PuGUKh2aS"
      }
    },
    {
      "cell_type": "code",
      "source": [
        "from xgboost import XGBRegressor\n",
        "from xgboost import plot_importance\n",
        "\n",
        "xgbr_all = XGBRegressor(n_estimators=100, learning_rate=0.1, max_depth=3, objective='reg:squarederror', random_state=1)\n",
        "xgbr_all.fit(train_X, train_y)\n",
        "pred = xgbr_all.predict(val_X)\n",
        "\n",
        "rmse = np.sqrt(mean_squared_error(val_y, pred))\n",
        "print(rmse)\n",
        "\n",
        "fig, ax = plt.subplots(figsize=(8, 6))\n",
        "plot_importance(xgbr_all, ax=ax)"
      ],
      "metadata": {
        "id": "CYis_Xd8h1_z"
      },
      "execution_count": null,
      "outputs": []
    },
    {
      "cell_type": "code",
      "source": [
        "df_train = pd.DataFrame(itImp_mid, columns=col_name)\n",
        "from pycaret.regression import *\n",
        "reg = setup(df_train, target = 'count', train_size=0.8)"
      ],
      "metadata": {
        "id": "urLnieoLpWJU"
      },
      "execution_count": null,
      "outputs": []
    },
    {
      "cell_type": "code",
      "source": [
        "best = compare_models(sort = 'RMSE')"
      ],
      "metadata": {
        "id": "Bw4b8h_Mru4l"
      },
      "execution_count": null,
      "outputs": []
    },
    {
      "cell_type": "code",
      "source": [
        ""
      ],
      "metadata": {
        "id": "pQlkvzyvR8en"
      },
      "execution_count": null,
      "outputs": []
    },
    {
      "cell_type": "code",
      "source": [
        "\n",
        "\n",
        "#bike_data['hour_bef_ozone'] = np.log(bike_data['hour_bef_ozone']+1)\n",
        "#bike_data['hour_bef_pm10'] = np.log(bike_data['hour_bef_pm10']+1)\n",
        "#bike_data['hour_bef_pm2.5'] = np.log(bike_data['hour_bef_pm2.5']+1)\n",
        " #= bike_data[['hour_bef_ozone', 'hour_bef_pm10', 'hour_bef_pm2.5']].apply(lambda x: np.log(x+1))\n",
        "\n",
        "f, axes = plt.subplots(4, 3, figsize = (10, 10), constrained_layout=True)\n",
        "for i, feature in enumerate(bike_data.columns):\n",
        "  sns.distplot(bike_data[feature], ax = axes[i//3, i%3])\n",
        "  print(\"bike_data[\", feature, \"]의 왜도: \", bike_data[feature].skew())\n",
        "\n",
        "plt.show()\n",
        "\n",
        "# fb = fb[['hour_bef_ozone', 'hour_bef_pm10', 'hour_bef_pm2.5']].apply(lambda x: np.log(x+1))"
      ],
      "metadata": {
        "id": "D9fVdFXIueGr"
      },
      "execution_count": null,
      "outputs": []
    },
    {
      "cell_type": "markdown",
      "source": [
        "##val data 분리"
      ],
      "metadata": {
        "id": "RsCHdLOPBLUI"
      }
    },
    {
      "cell_type": "code",
      "source": [
        "from sklearn.model_selection import train_test_split\n",
        "\n",
        "# Filter rows with missing price values\n",
        "filtered_bike_data = bike_data.dropna(axis=0)\n",
        "X = filtered_bike_data.drop(['count'], axis=1)\n",
        "y = filtered_bike_data['count']\n",
        "\n",
        "train_X, val_X, train_y, val_y = train_test_split(X, y, shuffle = True, random_state=1, test_size=0.2)"
      ],
      "metadata": {
        "id": "EBWWSJ1xBSAd"
      },
      "execution_count": null,
      "outputs": []
    },
    {
      "cell_type": "markdown",
      "source": [
        "#2. 탐색적 자료분석(EDA)\n",
        "##기존 데이터 확인"
      ],
      "metadata": {
        "id": "4cp1s3P1_Lal"
      }
    },
    {
      "cell_type": "code",
      "source": [
        "import matplotlib.pyplot as plt\n",
        "\n",
        "bike_data.isna().sum()\n",
        "bike_data.info()\n",
        "#bike_data.groupby('hour').mean()['hour_bef_windspeed'].plot()\n",
        "#bike_data[bike_data['hour_bef_temperature'].isna()]\n",
        "# hour 기준으로 평균을 내고 카운트를 출력\n",
        "#bike_data.groupby('hour').mean()['count'].plot()\n",
        "plt.plot(bike_data.groupby('hour').mean()['count'], 'o-')\n",
        "plt.grid()"
      ],
      "metadata": {
        "id": "GGdV1nsvMfJJ"
      },
      "execution_count": null,
      "outputs": []
    },
    {
      "cell_type": "code",
      "source": [
        "#print(bike_data.corr())\n",
        "plt.figure(figsize=(10, 10))\n",
        "sns.heatmap(bike_data.corr(), annot=True)"
      ],
      "metadata": {
        "id": "AuAyAGwLPgtx"
      },
      "execution_count": null,
      "outputs": []
    },
    {
      "cell_type": "markdown",
      "source": [
        "##모델 정의 및 학습"
      ],
      "metadata": {
        "id": "ojFC_SuC5XlE"
      }
    },
    {
      "cell_type": "code",
      "source": [
        "added_test = busyHourGen(itImp_test, 'hour') # added_test = busy_hour 추가된 데이터셋\n",
        "added_test.describe()"
      ],
      "metadata": {
        "id": "2qg7lDaIN_fd"
      },
      "execution_count": null,
      "outputs": []
    },
    {
      "cell_type": "code",
      "source": [
        "model = RandomForestRegressor()\n",
        "#model.fit(train_X, train_y)\n",
        "model.fit(X, y)\n",
        "test.fillna(0,inplace = True)\n",
        "\n",
        "\n",
        "pred = model.predict(test)\n",
        "\n",
        "#submission['count'] = pred\n",
        "submission.to_csv('베이스라인_테스트만0.csv',index = False)\n",
        "# plt.scatter(val_y, pred)\n",
        "# plt.show()\n",
        "# #print(pred)\n",
        "# print(mean_squared_error(val_y, pred)**0.5)"
      ],
      "metadata": {
        "id": "BcZK46YO5qFr"
      },
      "execution_count": null,
      "outputs": []
    },
    {
      "cell_type": "markdown",
      "source": [
        "##DNN을 위한 데이터 정규화"
      ],
      "metadata": {
        "id": "n-IpheS_nxnR"
      }
    },
    {
      "cell_type": "code",
      "source": [
        "# cnn을 위한 데이터 정규화\n",
        "# min_X = train_X.min()\n",
        "# max_X = train_X.max()\n",
        "# min_y = train_y.min()\n",
        "# max_y = train_y.max()\n",
        "# train_X = (train_X - min_X) / (max_X - min_X)\n",
        "# train_y = (train_y - min_y) / (max_y - min_y)\n",
        "\n",
        "print(train_X[:5])\n",
        "print(val_X[:5])\n",
        "print(train_y[:5])\n",
        "print(val_y[:5])\n",
        "\n",
        "min_X = train_X.min()\n",
        "max_X = train_X.max()\n",
        "def normalize_X(X):\n",
        "  return (X - min_X) / (max_X - min_X)\n",
        "\n",
        "min_y = train_y.min()\n",
        "max_y = train_y.max()\n",
        "def normalize_y(y):\n",
        "  return (y - min_y) / (max_y - min_y)\n",
        "\n",
        "def denormalize_y(y):\n",
        "  return (max_y - min_y) * y + min_y\n",
        "\n",
        "norm_train_X = normalize_X(train_X)\n",
        "norm_val_X = normalize_X(val_X)\n",
        "norm_train_y = normalize_y(train_y)\n",
        "norm_val_y = normalize_y(val_y)\n",
        "\n",
        "print(norm_train_X[:5])\n",
        "print(norm_val_X[:5])\n",
        "print(norm_train_y[:5])\n",
        "print(norm_val_y[:5])"
      ],
      "metadata": {
        "id": "Rn7orX2ubSTM"
      },
      "execution_count": null,
      "outputs": []
    },
    {
      "cell_type": "code",
      "source": [
        "model = RandomForestRegressor()\n",
        "model.fit(norm_train_X, norm_train_y)\n",
        "pred = model.predict(norm_val_X)\n",
        "denorm_pred = denormalize_y(pred)\n",
        "\n",
        "plt.scatter(val_y, pred)\n",
        "plt.show()\n",
        "#print(pred)\n",
        "print(mean_squared_error(val_y, denorm_pred)**0.5)"
      ],
      "metadata": {
        "id": "IbizzjjcCRiB"
      },
      "execution_count": null,
      "outputs": []
    },
    {
      "cell_type": "code",
      "source": [
        "import pandas as pd\n",
        "\n",
        "import tensorflow as tf\n",
        "\n",
        "from tensorflow import keras\n",
        "from tensorflow.keras import optimizers\n",
        "from tensorflow.keras.layers import Dense\n",
        "\n",
        "model = keras.Sequential()\n",
        "model.add(Dense(1000, activation='relu', input_shape=(9,)))\n",
        "model.add(Dense(1000, activation='relu'))\n",
        "model.add(Dense(100, activation='relu'))\n",
        "model.add(Dense(100, activation='relu'))\n",
        "model.add(Dense(10, activation='relu'))\n",
        "model.add(Dense(1))\n",
        "\n",
        "model.compile(optimizer=\"SGD\", loss=\"mse\", metrics=[\"mape\"])\n",
        "model.summary()\n",
        "\n",
        "history = model.fit(norm_train_X, norm_train_y, epochs=100, verbose=1, batch_size=16, validation_split=0.2)\n",
        "\n",
        "plt.plot(history.history['loss'])\n",
        "plt.plot(history.history['val_loss'])\n",
        "plt.show()\n",
        "\n",
        "loss, mape = model.evaluate(norm_val_X, norm_val_y)\n",
        "print(\"loss=\", loss)\n",
        "print(\"mape=\", mape)"
      ],
      "metadata": {
        "id": "ZA9kRObrUqCz"
      },
      "execution_count": null,
      "outputs": []
    },
    {
      "cell_type": "markdown",
      "source": [
        "##학습된 모델로 예측 데이터 생성"
      ],
      "metadata": {
        "id": "jnUCRRfF52db"
      }
    },
    {
      "cell_type": "code",
      "source": [
        "from sklearn.metrics import mean_squared_error\n",
        "\n",
        "pred = model.predict(norm_val_X)"
      ],
      "metadata": {
        "id": "ULoZZRQZltcY"
      },
      "execution_count": null,
      "outputs": []
    },
    {
      "cell_type": "code",
      "source": [
        "denorm_pred = denormalize_y(pred)\n",
        "print(denorm_pred[:5])\n",
        "#denorm_norm_val_y = denormalize_y(norm_val_y)\n",
        "#print(denorm_norm_val_y[:5])\n"
      ],
      "metadata": {
        "id": "dWJ2-XTp50LD"
      },
      "execution_count": null,
      "outputs": []
    },
    {
      "cell_type": "code",
      "source": [
        "plt.scatter(val_y, denorm_pred)\n",
        "plt.show()\n",
        "#print(pred)\n",
        "print(mean_squared_error(val_y, denorm_pred)**0.5)"
      ],
      "metadata": {
        "id": "9zRWhC62ICTg"
      },
      "execution_count": null,
      "outputs": []
    },
    {
      "cell_type": "code",
      "source": [
        ""
      ],
      "metadata": {
        "id": "gPkcD1m-6Kg7"
      },
      "execution_count": null,
      "outputs": []
    },
    {
      "cell_type": "code",
      "source": [
        ""
      ],
      "metadata": {
        "id": "YaHmDva_6PND"
      },
      "execution_count": null,
      "outputs": []
    },
    {
      "cell_type": "code",
      "source": [
        ""
      ],
      "metadata": {
        "id": "zu68PlEy6QFz"
      },
      "execution_count": null,
      "outputs": []
    }
  ]
}